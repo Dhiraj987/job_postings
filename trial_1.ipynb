{
 "cells": [
  {
   "cell_type": "code",
   "execution_count": 1,
   "metadata": {},
   "outputs": [],
   "source": [
    "# %load imports\n",
    "from bs4 import BeautifulSoup\n",
    "from selenium import webdriver\n",
    "from selenium.webdriver.chrome.options import Options as ChromeOptions\n",
    "from selenium.webdriver.firefox.options import Options as FirefoxOptions\n",
    "from selenium.webdriver.chrome.options import Options as ChromeOptions\n",
    "from datetime import datetime\n",
    "CHROME_DRIVER = './chromedriver'\n",
    "FIREFOX_DRIVER = './geckodriver'\n",
    "import time\n",
    "import re\n",
    "import requests\n",
    "import json\n",
    "import random\n",
    "import copy\n",
    "import pprint\n",
    "\n",
    "\n",
    "def setup_driver(headless=True, driver_type=CHROME_DRIVER) -> webdriver:\n",
    "    if 'chrome' in driver_type.lower():\n",
    "        options = ChromeOptions()\n",
    "        options.add_argument('--ignore-certificate-errors')\n",
    "        options.add_argument('--ignore-ssl-errors')\n",
    "        if headless:\n",
    "            options.add_argument('-headless')\n",
    "        driver = webdriver.Chrome(executable_path=driver_type, chrome_options=options)\n",
    "    else:\n",
    "        options = FirefoxOptions()\n",
    "        if headless:\n",
    "            options.add_argument('-headless')\n",
    "        driver = webdriver.Firefox(executable_path=driver_type, firefox_options=options)\n",
    "    return driver\n"
   ]
  },
  {
   "cell_type": "code",
   "execution_count": 2,
   "metadata": {},
   "outputs": [],
   "source": [
    "def get_soup(link):\n",
    "    #basic function to parse the soup\n",
    "    driver = setup_driver()\n",
    "    driver.get(link)\n",
    "    time.sleep(8)\n",
    "    soup = BeautifulSoup(driver.page_source, \"html.parser\")\n",
    "    executing_query = \"document.getElementsByClassName('popover-x-button-close icl-CloseButton')[0].click()\"\n",
    "    #in case a pop up appears, it closes it\n",
    "    if soup.find('div',{'id':'popover-form-container'}):\n",
    "        driver.execute_script(executing_query)\n",
    "    print(driver.current_url)\n",
    "    driver.quit()\n",
    "    return soup\n",
    "\n",
    "\n",
    "def parse_all_pages(page):\n",
    "    #from the first page, it gets the links to all other pages..\n",
    "    page_links = []\n",
    "    blocks = page.find('ul',{'class':'pagination-list'}).find_all('li')\n",
    "    for block in blocks:\n",
    "        if block.find('a', href = True):\n",
    "            incomplete_link = block.find('a')['href']\n",
    "            page_links.append('https://www.indeed.com'+incomplete_link)\n",
    "            \n",
    "    pages = []\n",
    "    #stores the soup of all the pages\n",
    "    pages.append(page)\n",
    "    #appends the soup for the first page before getting into the loop\n",
    "    for link in set(page_links):\n",
    "        pages.append(get_soup(link))\n",
    "        #loops with all the links to other pages and stores their soups..\n",
    "    return pages\n",
    "\n",
    "def get_all_soups(pages):\n",
    "    soups = []\n",
    "    #stores the soups to each job postings, the soup from their specific \n",
    "    links_to_postings = []\n",
    "    #stores all the links to the specific job postings\n",
    "    for page in pages:\n",
    "        method_1 = page.find('div',{'class':'mosaic mosaic-provider-jobcards mosaic-provider-hydrated'})\n",
    "        method_2 = page.find('div',{'class':'jobsearch-SerpJobCard unifiedRow row result clickcard'})\n",
    "        #this takes care of the two different classes used in the html pages\n",
    "        if method_1:\n",
    "            container = method_1\n",
    "            boxes = container.find_all('a', href = True)\n",
    "        elif method_2:\n",
    "            container = method_2\n",
    "            boxes = container.find_all('a', href = True)\n",
    "        else:\n",
    "            return \"we don't have the job postings\"\n",
    "            # quits the method if the links are not found.\n",
    "            \n",
    "        if boxes: #proceeds only if links to different postings exists\n",
    "            for box in boxes:\n",
    "                first = box['href']\n",
    "                if '/rc/clk?jk' in first:\n",
    "                    link = first.replace('/rc/clk?','https://www.indeed.com/viewjob?')\n",
    "                    links_to_postings.append(link)\n",
    "                    #append all the links to the list\n",
    "    for link in set(links_to_postings):\n",
    "        soups.append(get_soup(link))\n",
    "        #get soups for unique job links parsed from different websites\n",
    "    return soups"
   ]
  },
  {
   "cell_type": "code",
   "execution_count": null,
   "metadata": {},
   "outputs": [],
   "source": [
    "def get_titles(soup):"
   ]
  },
  {
   "cell_type": "code",
   "execution_count": null,
   "metadata": {},
   "outputs": [],
   "source": []
  },
  {
   "cell_type": "code",
   "execution_count": null,
   "metadata": {},
   "outputs": [],
   "source": []
  },
  {
   "cell_type": "code",
   "execution_count": 3,
   "metadata": {
    "scrolled": true
   },
   "outputs": [
    {
     "name": "stderr",
     "output_type": "stream",
     "text": [
      "<ipython-input-1-42be7db9a6ee>:26: DeprecationWarning: use options instead of chrome_options\n",
      "  driver = webdriver.Chrome(executable_path=driver_type, chrome_options=options)\n"
     ]
    },
    {
     "name": "stdout",
     "output_type": "stream",
     "text": [
      "https://www.indeed.com/jobs?q=%22Software+Engineer%22\n"
     ]
    }
   ],
   "source": [
    "page = get_soup('https://www.indeed.com/jobs?q=%22Software+Engineer%22&l=')"
   ]
  },
  {
   "cell_type": "code",
   "execution_count": 4,
   "metadata": {},
   "outputs": [
    {
     "name": "stderr",
     "output_type": "stream",
     "text": [
      "<ipython-input-1-42be7db9a6ee>:26: DeprecationWarning: use options instead of chrome_options\n",
      "  driver = webdriver.Chrome(executable_path=driver_type, chrome_options=options)\n"
     ]
    },
    {
     "name": "stdout",
     "output_type": "stream",
     "text": [
      "https://www.indeed.com/jobs?q=%22Software+Engineer%22&start=10\n",
      "https://www.indeed.com/jobs?q=%22Software+Engineer%22&start=20\n",
      "https://www.indeed.com/jobs?q=%22Software+Engineer%22&start=30\n",
      "https://www.indeed.com/jobs?q=%22Software+Engineer%22&start=40\n"
     ]
    }
   ],
   "source": [
    "pages = parse_all_pages(page)"
   ]
  },
  {
   "cell_type": "code",
   "execution_count": null,
   "metadata": {
    "scrolled": true
   },
   "outputs": [
    {
     "name": "stderr",
     "output_type": "stream",
     "text": [
      "<ipython-input-1-42be7db9a6ee>:26: DeprecationWarning: use options instead of chrome_options\n",
      "  driver = webdriver.Chrome(executable_path=driver_type, chrome_options=options)\n"
     ]
    },
    {
     "name": "stdout",
     "output_type": "stream",
     "text": [
      "https://www.indeed.com/viewjob?jk=1c1cca2129ef17d6&fccid=9784ae78e9834539&vjs=3\n",
      "https://www.indeed.com/viewjob?jk=6797ab67821bf99e&fccid=f490aa2d3c80bc75&vjs=3\n",
      "https://www.indeed.com/viewjob?jk=0ccc9495c5e70728&fccid=4edf263374ff05e2&vjs=3\n",
      "https://www.indeed.com/viewjob?jk=55a3be0a59892c9c&fccid=1b50fcfb150b1b48&vjs=3\n",
      "https://www.indeed.com/viewjob?jk=25a0c3b6b7ddbb3f&fccid=dd09fe3b43125016&vjs=3\n",
      "https://www.indeed.com/viewjob?jk=ca6f5836440946a9&fccid=1b50fcfb150b1b48&vjs=3\n",
      "https://www.indeed.com/viewjob?jk=2ab912f23dd2ffbb&fccid=66403b30a2c0d89c&vjs=3\n",
      "https://www.indeed.com/viewjob?jk=c301ab0af8d9b051&fccid=68ec8a8ee6cf5ac6&vjs=3\n",
      "https://www.indeed.com/viewjob?jk=fcb7593ec9da4fcf&fccid=8b9bafd9d608c198&vjs=3\n"
     ]
    }
   ],
   "source": [
    "soups = get_all_soups(pages)"
   ]
  },
  {
   "cell_type": "code",
   "execution_count": null,
   "metadata": {},
   "outputs": [],
   "source": []
  },
  {
   "cell_type": "code",
   "execution_count": null,
   "metadata": {},
   "outputs": [],
   "source": []
  },
  {
   "cell_type": "code",
   "execution_count": null,
   "metadata": {},
   "outputs": [],
   "source": []
  },
  {
   "cell_type": "code",
   "execution_count": null,
   "metadata": {},
   "outputs": [],
   "source": []
  },
  {
   "cell_type": "code",
   "execution_count": null,
   "metadata": {},
   "outputs": [],
   "source": []
  },
  {
   "cell_type": "code",
   "execution_count": null,
   "metadata": {},
   "outputs": [],
   "source": []
  },
  {
   "cell_type": "code",
   "execution_count": null,
   "metadata": {},
   "outputs": [],
   "source": []
  },
  {
   "cell_type": "code",
   "execution_count": null,
   "metadata": {},
   "outputs": [],
   "source": []
  },
  {
   "cell_type": "code",
   "execution_count": null,
   "metadata": {},
   "outputs": [],
   "source": []
  },
  {
   "cell_type": "code",
   "execution_count": null,
   "metadata": {},
   "outputs": [],
   "source": []
  },
  {
   "cell_type": "code",
   "execution_count": null,
   "metadata": {},
   "outputs": [],
   "source": [
    "sd = page.find('div',{'class':'jobsearch-SerpJobCard unifiedRow row result clickcard'})"
   ]
  },
  {
   "cell_type": "code",
   "execution_count": null,
   "metadata": {},
   "outputs": [],
   "source": [
    "for s in sd:\n",
    "    d = s.find('a', href = True)\n",
    "    print(d['href'])"
   ]
  },
  {
   "cell_type": "code",
   "execution_count": null,
   "metadata": {},
   "outputs": [],
   "source": []
  },
  {
   "cell_type": "code",
   "execution_count": null,
   "metadata": {},
   "outputs": [],
   "source": [
    "container = page.find('div',{'class':'mosaic mosaic-provider-jobcards mosaic-provider-hydrated'})"
   ]
  },
  {
   "cell_type": "code",
   "execution_count": null,
   "metadata": {
    "scrolled": true
   },
   "outputs": [],
   "source": [
    "boxes = container.find_all('a', href =True)"
   ]
  },
  {
   "cell_type": "code",
   "execution_count": null,
   "metadata": {},
   "outputs": [],
   "source": [
    "boxes[0]['href'"
   ]
  },
  {
   "cell_type": "code",
   "execution_count": null,
   "metadata": {},
   "outputs": [],
   "source": [
    "links_to_postings = []\n",
    "for box in boxes:\n",
    "    first = box['href']\n",
    "    if '/rc/clk?jk' in first:\n",
    "        link = first.replace('/rc/clk?','https://www.indeed.com/viewjob?')\n",
    "        links_to_postings.append(link)"
   ]
  },
  {
   "cell_type": "code",
   "execution_count": null,
   "metadata": {},
   "outputs": [],
   "source": [
    "soups = []\n",
    "for link in links_to_postings:\n",
    "    soup = get_soup(link)\n",
    "    soups.append(soup)"
   ]
  },
  {
   "cell_type": "code",
   "execution_count": null,
   "metadata": {},
   "outputs": [],
   "source": [
    "for soup in soups:\n",
    "    title = soup.find('h1',{'class':'icl-u-xs-mb--xs icl-u-xs-mt--none jobsearch-JobInfoHeader-title'}).text\n",
    "    \n",
    "    original = soup.find('div',{'id':'originalJobLinkContainer'}).find('a')['href']\n",
    "    print(original)"
   ]
  },
  {
   "cell_type": "code",
   "execution_count": null,
   "metadata": {},
   "outputs": [],
   "source": []
  },
  {
   "cell_type": "code",
   "execution_count": null,
   "metadata": {},
   "outputs": [],
   "source": []
  }
 ],
 "metadata": {
  "kernelspec": {
   "display_name": "Python 3",
   "language": "python",
   "name": "python3"
  },
  "language_info": {
   "codemirror_mode": {
    "name": "ipython",
    "version": 3
   },
   "file_extension": ".py",
   "mimetype": "text/x-python",
   "name": "python",
   "nbconvert_exporter": "python",
   "pygments_lexer": "ipython3",
   "version": "3.8.5"
  }
 },
 "nbformat": 4,
 "nbformat_minor": 4
}
