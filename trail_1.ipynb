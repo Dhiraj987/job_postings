{
 "cells": [
  {
   "cell_type": "code",
   "execution_count": 1,
   "metadata": {},
   "outputs": [],
   "source": [
    "# %load imports\n",
    "from bs4 import BeautifulSoup\n",
    "from selenium import webdriver\n",
    "from selenium.webdriver.chrome.options import Options as ChromeOptions\n",
    "from selenium.webdriver.firefox.options import Options as FirefoxOptions\n",
    "from selenium.webdriver.chrome.options import Options as ChromeOptions\n",
    "from datetime import datetime\n",
    "CHROME_DRIVER = './chromedriver'\n",
    "FIREFOX_DRIVER = './geckodriver'\n",
    "import time\n",
    "import re\n",
    "import requests\n",
    "import json\n",
    "import random\n",
    "import copy\n",
    "import pprint\n",
    "\n",
    "\n",
    "def setup_driver(headless=True, driver_type=CHROME_DRIVER) -> webdriver:\n",
    "    if 'chrome' in driver_type.lower():\n",
    "        options = ChromeOptions()\n",
    "        options.add_argument('--ignore-certificate-errors')\n",
    "        options.add_argument('--ignore-ssl-errors')\n",
    "        if headless:\n",
    "            options.add_argument('-headless')\n",
    "        driver = webdriver.Chrome(executable_path=driver_type, chrome_options=options)\n",
    "    else:\n",
    "        options = FirefoxOptions()\n",
    "        if headless:\n",
    "            options.add_argument('-headless')\n",
    "        driver = webdriver.Firefox(executable_path=driver_type, firefox_options=options)\n",
    "    return driver\n"
   ]
  },
  {
   "cell_type": "code",
   "execution_count": 2,
   "metadata": {},
   "outputs": [],
   "source": [
    "def get_soup(link):\n",
    "    soupd = {}\n",
    "    #basic function to parse the soup\n",
    "    driver = setup_driver()\n",
    "    driver.get(link)\n",
    "    time.sleep(8)\n",
    "    soup = BeautifulSoup(driver.page_source, \"html.parser\")\n",
    "    executing_query = \"document.getElementsByClassName('popover-x-button-close icl-CloseButton')[0].click()\"\n",
    "    #in case a pop up appears, it closes it\n",
    "    if soup.find('div',{'id':'popover-form-container'}):\n",
    "        driver.execute_script(executing_query)\n",
    "    soupd[driver.current_url] = soup\n",
    "    driver.quit()\n",
    "    return soup\n",
    "\n",
    "\n",
    "def parse_all_pages(page):\n",
    "    #from the first page, it gets the links to all other pages..\n",
    "    page_links = []\n",
    "    blocks = page.find('ul',{'class':'pagination-list'}).find_all('li')\n",
    "    for block in blocks:\n",
    "        if block.find('a', href = True):\n",
    "            incomplete_link = block.find('a')['href']\n",
    "            page_links.append('https://www.indeed.com'+incomplete_link)\n",
    "            \n",
    "    pages = []\n",
    "    #stores the soup of all the pages\n",
    "    pages.append(page)\n",
    "    #appends the soup for the first page before getting into the loop\n",
    "    for link in set(page_links):\n",
    "        pages.append(get_soup(link))\n",
    "        #loops with all the links to other pages and stores their soups..\n",
    "    return pages\n",
    "\n",
    "def get_all_soups(pages):\n",
    "    soups = []\n",
    "    #stores the soups to each job postings, the soup from their specific \n",
    "    links_to_postings = []\n",
    "    #stores all the links to the specific job postings\n",
    "    for page in pages:\n",
    "        method_1 = page.find('div',{'class':'mosaic mosaic-provider-jobcards mosaic-provider-hydrated'})\n",
    "        method_2 = page.find('div',{'class':'jobsearch-SerpJobCard unifiedRow row result clickcard'})\n",
    "        #this takes care of the two different classes used in the html pages\n",
    "        if method_1:\n",
    "            container = method_1\n",
    "            boxes = container.find_all('a', href = True)\n",
    "        elif method_2:\n",
    "            container = method_2\n",
    "            boxes = container.find_all('a', href = True)\n",
    "        else:\n",
    "            return \"we don't have the job postings\"\n",
    "            # quits the method if the links are not found.\n",
    "            \n",
    "        if boxes: #proceeds only if links to different postings exists\n",
    "            for box in boxes:\n",
    "                first = box['href']\n",
    "                if '/rc/clk?jk' in first:\n",
    "                    link = first.replace('/rc/clk?','https://www.indeed.com/viewjob?')\n",
    "                    links_to_postings.append(link)\n",
    "                    #append all the links to the list\n",
    "    for link in set(links_to_postings):\n",
    "        soups.append(get_soup(link))\n",
    "        #get soups for unique job links parsed from different websites\n",
    "    print(f'we got {len(soups)} job postings')\n",
    "    return soups"
   ]
  },
  {
   "cell_type": "code",
   "execution_count": 3,
   "metadata": {},
   "outputs": [],
   "source": [
    "class job_posting(object):\n",
    "    def __init__(self):\n",
    "        self.job_title = None\n",
    "        self.company = None\n",
    "        self.original_link = None\n",
    "        self.is_full_time = None\n",
    "        self.is_remote = None\n",
    "        self.job_location = None\n",
    "        self.requirements = None\n",
    "        self.languages_used = None\n",
    "       "
   ]
  },
  {
   "cell_type": "code",
   "execution_count": 4,
   "metadata": {
    "scrolled": true
   },
   "outputs": [
    {
     "name": "stderr",
     "output_type": "stream",
     "text": [
      "<ipython-input-1-42be7db9a6ee>:26: DeprecationWarning: use options instead of chrome_options\n",
      "  driver = webdriver.Chrome(executable_path=driver_type, chrome_options=options)\n"
     ]
    },
    {
     "name": "stdout",
     "output_type": "stream",
     "text": [
      "https://www.indeed.com/jobs?q=%22Software+Engineer%22\n"
     ]
    }
   ],
   "source": [
    "page = get_soup('https://www.indeed.com/jobs?q=%22Software+Engineer%22&l=')"
   ]
  },
  {
   "cell_type": "code",
   "execution_count": 5,
   "metadata": {},
   "outputs": [
    {
     "name": "stderr",
     "output_type": "stream",
     "text": [
      "<ipython-input-1-42be7db9a6ee>:26: DeprecationWarning: use options instead of chrome_options\n",
      "  driver = webdriver.Chrome(executable_path=driver_type, chrome_options=options)\n"
     ]
    },
    {
     "name": "stdout",
     "output_type": "stream",
     "text": [
      "https://www.indeed.com/jobs?q=%22Software+Engineer%22&start=40\n",
      "https://www.indeed.com/jobs?q=%22Software+Engineer%22&start=30\n",
      "https://www.indeed.com/jobs?q=%22Software+Engineer%22&start=10\n",
      "https://www.indeed.com/jobs?q=%22Software+Engineer%22&start=20\n"
     ]
    }
   ],
   "source": [
    "pages = parse_all_pages(page)"
   ]
  },
  {
   "cell_type": "code",
   "execution_count": 6,
   "metadata": {
    "scrolled": true
   },
   "outputs": [
    {
     "name": "stderr",
     "output_type": "stream",
     "text": [
      "<ipython-input-1-42be7db9a6ee>:26: DeprecationWarning: use options instead of chrome_options\n",
      "  driver = webdriver.Chrome(executable_path=driver_type, chrome_options=options)\n"
     ]
    },
    {
     "name": "stdout",
     "output_type": "stream",
     "text": [
      "https://www.indeed.com/viewjob?jk=c1e5bd7a50cac627&fccid=5309ddd82b852332&vjs=3\n",
      "https://www.indeed.com/viewjob?jk=4e46d4925e6c6328&fccid=3e3eaa6aedf690a3&vjs=3\n",
      "https://www.indeed.com/viewjob?jk=16e97e1fd4ed4a4b&fccid=e32d933c26e873c8&vjs=3\n",
      "https://www.indeed.com/viewjob?jk=835c0973db3a626b&fccid=6bcbaf35af26e1a6&vjs=3\n",
      "https://www.indeed.com/viewjob?jk=76ddcf435e07a36e&fccid=c594c442f5397e7b&vjs=3\n",
      "https://www.indeed.com/viewjob?jk=6797ab67821bf99e&fccid=f490aa2d3c80bc75&vjs=3\n",
      "https://www.indeed.com/viewjob?jk=7bcc0e8542a54815&fccid=bee6abba453010ff&vjs=3\n",
      "https://www.indeed.com/viewjob?jk=c86732b141b38515&fccid=c007936ceb766fe5&vjs=3\n",
      "https://www.indeed.com/viewjob?jk=a359dd1de8ba0947&fccid=cd6c9f98394f9865&vjs=3\n",
      "https://www.indeed.com/viewjob?jk=3db8678198e5f5d4&fccid=25b5166547bbf543&vjs=3\n",
      "https://www.indeed.com/viewjob?jk=c301ab0af8d9b051&fccid=68ec8a8ee6cf5ac6&vjs=3\n",
      "https://www.indeed.com/viewjob?jk=1c1cca2129ef17d6&fccid=9784ae78e9834539&vjs=3\n",
      "https://www.indeed.com/viewjob?jk=6c9db143ba6833a4&fccid=aaf3b433897ea465&vjs=3\n",
      "https://www.indeed.com/viewjob?jk=b246045b00ff72ce&fccid=5bd99dfa21c8a490&vjs=3\n",
      "https://www.indeed.com/viewjob?jk=a4a0e9ccf8a052a8&fccid=66cdbe15c1ac4d49&vjs=3\n",
      "https://www.indeed.com/viewjob?jk=d18cde112dad3c0c&fccid=5b2f9eaa91cb3370&vjs=3\n",
      "https://www.indeed.com/viewjob?jk=43e2170add35506d&fccid=734cb5a01ee60f80&vjs=3\n",
      "https://www.indeed.com/viewjob?jk=8f701ce3c67926a8&fccid=dd616958bd9ddc12&vjs=3\n",
      "https://www.indeed.com/viewjob?jk=97ac7dc76da3b0c1&fccid=1b50fcfb150b1b48&vjs=3\n",
      "https://www.indeed.com/viewjob?jk=55a3be0a59892c9c&fccid=1b50fcfb150b1b48&vjs=3\n",
      "https://www.indeed.com/viewjob?jk=e13296989729369f&fccid=ffe2a8d347177024&vjs=3\n",
      "https://www.indeed.com/viewjob?jk=d1ac7c3abb25c257&fccid=734cb5a01ee60f80&vjs=3\n",
      "https://www.indeed.com/viewjob?jk=75424cabf7072b97&fccid=6824fc1f087bd63e&vjs=3\n",
      "https://www.indeed.com/viewjob?jk=9f068e657d36e17b&fccid=ae5bfc395c530fbc&vjs=3\n",
      "https://www.indeed.com/viewjob?jk=2ab912f23dd2ffbb&fccid=66403b30a2c0d89c&vjs=3\n",
      "https://www.indeed.com/viewjob?jk=9882a391effc77b7&fccid=16a97ed26c75bf2d&vjs=3\n",
      "https://www.indeed.com/viewjob?jk=65aa93086ae9f208&fccid=dd616958bd9ddc12&vjs=3\n",
      "https://www.indeed.com/viewjob?jk=a538f7ea85206147&fccid=16a97ed26c75bf2d&vjs=3\n",
      "https://www.indeed.com/viewjob?jk=29039512dbd7039e&fccid=f89deb5a97c7738a&vjs=3\n",
      "https://www.indeed.com/viewjob?jk=ca6f5836440946a9&fccid=1b50fcfb150b1b48&vjs=3\n",
      "https://www.indeed.com/viewjob?jk=c6e3b26327475860&fccid=92b6ad9b1bd886b6&vjs=3\n",
      "https://www.indeed.com/viewjob?jk=10ea647495b66b08&fccid=f766f8bfbc3effb7&vjs=3\n",
      "https://www.indeed.com/viewjob?jk=3c1814fe69710537&fccid=f89deb5a97c7738a&vjs=3\n",
      "https://www.indeed.com/viewjob?jk=bf0ae9c135f9c38a&fccid=a2faf1301ac6ad4b&vjs=3\n",
      "https://www.indeed.com/viewjob?jk=8c2a8afbbd8dacbc&fccid=c1099851e9794854&vjs=3\n",
      "https://www.indeed.com/viewjob?jk=ae3139c2282ce2b2&fccid=aef928e89977f7f0&vjs=3\n",
      "https://www.indeed.com/viewjob?jk=98e883979bea8ef0&fccid=3e3eaa6aedf690a3&vjs=3\n",
      "https://www.indeed.com/viewjob?jk=cf559c5a2c2084c0&fccid=6932ed8e52d6f33f&vjs=3\n",
      "https://www.indeed.com/viewjob?jk=6293e5f4537b2ec2&fccid=4055a3edc92e3c66&vjs=3\n",
      "https://www.indeed.com/viewjob?jk=25a0c3b6b7ddbb3f&fccid=dd09fe3b43125016&vjs=3\n",
      "https://www.indeed.com/viewjob?jk=4bdd5ddf91979cbe&fccid=a331385a899e3dc9&vjs=3\n",
      "we got 41 job postings\n"
     ]
    }
   ],
   "source": [
    "soups = get_all_soups(pages)"
   ]
  },
  {
   "cell_type": "code",
   "execution_count": 19,
   "metadata": {},
   "outputs": [],
   "source": [
    "def parse_job_title(soup):\n",
    "    title = 'N/A'\n",
    "    title_text = soup.find('h1',{'class':'icl-u-xs-mb--xs icl-u-xs-mt--none jobsearch-JobInfoHeader-title'})\n",
    "    if title_text:\n",
    "        title = title_text.text.title()\n",
    "    return title    \n",
    "    \n",
    "    \n",
    "def parse_link(soup):\n",
    "    link = 'N/A'\n",
    "    link_text = soup.find('div',{'id':'originalJobLinkContainer'})\n",
    "    if link_text:\n",
    "        link = link_text.find('a')['href']\n",
    "    return link\n",
    "        \n",
    "        \n",
    "def parse_company_name(soup):\n",
    "    name = 'unknown'\n",
    "    text = soup.find('div',{'class':'jobsearch-InlineCompanyRating icl-u-xs-mt--xs jobsearch-DesktopStickyContainer-companyrating'})\n",
    "    if text:\n",
    "        name = re.sub('[0-9]','',text.text)\n",
    "    final = name.replace('reviews','').replace(',','').title()\n",
    "    return final\n",
    "\n",
    "\n",
    "def parse_working_time(soup):\n",
    "    soup_text = soup.text.lower()\n",
    "    if 'full time' in soup_text or 'full-time' in soup_text:\n",
    "        full_time = True\n",
    "    elif 'part time' in soup_text or 'part-time' in soup_text:\n",
    "        full_time = False\n",
    "    else:\n",
    "        full_time = 'N/A'\n",
    "    return full_time\n",
    "    \n",
    "    \n",
    "def parse_job_location(soup):\n",
    "    is_remote = 'N/A'\n",
    "    final = 'N/A'\n",
    "    entire_text = soup.find('div',{'class':'icl-u-xs-mt--xs icl-u-textColor--secondary jobsearch-JobInfoHeader-subtitle jobsearch-DesktopStickyContainer-subtitle'})\n",
    "    if entire_text:\n",
    "        company_name = soup.find('div',{'class':'jobsearch-InlineCompanyRating icl-u-xs-mt--xs jobsearch-DesktopStickyContainer-companyrating'}).text\n",
    "        final = entire_text.text.replace(company_name, '')\n",
    "    if 'remote' in final.lower():\n",
    "        final = final.lower().split('remote')[0].title()\n",
    "        is_remote = True\n",
    "    if final == '':\n",
    "        final = 'Remote'\n",
    "    return final , is_remote\n",
    "    \n",
    "    \n",
    "    "
   ]
  },
  {
   "cell_type": "code",
   "execution_count": null,
   "metadata": {},
   "outputs": [],
   "source": []
  },
  {
   "cell_type": "code",
   "execution_count": null,
   "metadata": {},
   "outputs": [],
   "source": []
  },
  {
   "cell_type": "code",
   "execution_count": 22,
   "metadata": {},
   "outputs": [],
   "source": [
    "for soup in soups:\n",
    "    job = job_posting()\n",
    "    job.job_title = parse_job_title(soup)\n",
    "    job.original_link = parse_link(soup)\n",
    "    job.company = parse_company_name(soup)\n",
    "    job.is_full_time = parse_working_time(soup)\n",
    "    job.job_location, job.is_remote = parse_job_location(soup)\n",
    "    \n",
    "    job.requirements = None\n",
    "    job.languages_used = None\n",
    "    "
   ]
  },
  {
   "cell_type": "code",
   "execution_count": null,
   "metadata": {},
   "outputs": [],
   "source": []
  },
  {
   "cell_type": "code",
   "execution_count": null,
   "metadata": {},
   "outputs": [],
   "source": []
  },
  {
   "cell_type": "code",
   "execution_count": null,
   "metadata": {},
   "outputs": [],
   "source": []
  },
  {
   "cell_type": "code",
   "execution_count": null,
   "metadata": {},
   "outputs": [],
   "source": []
  },
  {
   "cell_type": "code",
   "execution_count": null,
   "metadata": {},
   "outputs": [],
   "source": []
  },
  {
   "cell_type": "code",
   "execution_count": null,
   "metadata": {},
   "outputs": [],
   "source": []
  },
  {
   "cell_type": "code",
   "execution_count": null,
   "metadata": {},
   "outputs": [],
   "source": []
  },
  {
   "cell_type": "code",
   "execution_count": null,
   "metadata": {},
   "outputs": [],
   "source": []
  },
  {
   "cell_type": "code",
   "execution_count": null,
   "metadata": {},
   "outputs": [],
   "source": []
  },
  {
   "cell_type": "code",
   "execution_count": null,
   "metadata": {},
   "outputs": [],
   "source": []
  },
  {
   "cell_type": "code",
   "execution_count": null,
   "metadata": {},
   "outputs": [],
   "source": []
  }
 ],
 "metadata": {
  "kernelspec": {
   "display_name": "Python 3",
   "language": "python",
   "name": "python3"
  },
  "language_info": {
   "codemirror_mode": {
    "name": "ipython",
    "version": 3
   },
   "file_extension": ".py",
   "mimetype": "text/x-python",
   "name": "python",
   "nbconvert_exporter": "python",
   "pygments_lexer": "ipython3",
   "version": "3.8.5"
  }
 },
 "nbformat": 4,
 "nbformat_minor": 4
}
