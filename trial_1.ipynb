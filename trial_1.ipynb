{
 "cells": [
  {
   "cell_type": "code",
   "execution_count": 1,
   "metadata": {},
   "outputs": [],
   "source": [
    "# %load imports\n",
    "from bs4 import BeautifulSoup\n",
    "from selenium import webdriver\n",
    "from selenium.webdriver.chrome.options import Options as ChromeOptions\n",
    "from selenium.webdriver.firefox.options import Options as FirefoxOptions\n",
    "from selenium.webdriver.chrome.options import Options as ChromeOptions\n",
    "from datetime import datetime\n",
    "CHROME_DRIVER = './chromedriver'\n",
    "FIREFOX_DRIVER = './geckodriver'\n",
    "import time\n",
    "import re\n",
    "import requests\n",
    "import json\n",
    "import random\n",
    "import copy\n",
    "import pprint\n",
    "\n",
    "\n",
    "def setup_driver(headless=True, driver_type=CHROME_DRIVER) -> webdriver:\n",
    "    if 'chrome' in driver_type.lower():\n",
    "        options = ChromeOptions()\n",
    "        options.add_argument('--ignore-certificate-errors')\n",
    "        options.add_argument('--ignore-ssl-errors')\n",
    "        if headless:\n",
    "            options.add_argument('-headless')\n",
    "        driver = webdriver.Chrome(executable_path=driver_type, chrome_options=options)\n",
    "    else:\n",
    "        options = FirefoxOptions()\n",
    "        if headless:\n",
    "            options.add_argument('-headless')\n",
    "        driver = webdriver.Firefox(executable_path=driver_type, firefox_options=options)\n",
    "    return driver\n"
   ]
  },
  {
   "cell_type": "code",
   "execution_count": 2,
   "metadata": {},
   "outputs": [],
   "source": [
    "def get_soup(link):\n",
    "    driver = setup_driver()\n",
    "    driver.get(link)\n",
    "    time.sleep(8)\n",
    "    soup = BeautifulSoup(driver.page_source, \"html.parser\")\n",
    "    executing_query = \"document.getElementsByClassName('popover-x-button-close icl-CloseButton')[0].click()\"\n",
    "    if soup.find('div',{'id':'popover-form-container'}):\n",
    "        driver.execute_script(executing_query)\n",
    "    print(driver.current_url)\n",
    "    driver.quit()\n",
    "    return soup\n",
    "\n",
    "\n",
    "def parse_all_pages(page):\n",
    "    page_links = []\n",
    "    blocks = page.find('ul',{'class':'pagination-list'}).find_all('li')\n",
    "    for block in blocks:\n",
    "        if block.find('a', href = True):\n",
    "            incomplete_link = block.find('a')['href']\n",
    "            page_links.append('https://www.indeed.com'+incomplete_link)\n",
    "    pages = []\n",
    "    pages.append(page)\n",
    "    for link in set(page_links):\n",
    "        pages.append(get_soup(link))\n",
    "    return pages\n",
    "\n",
    "def get_all_soups(pages):\n",
    "    soups = []\n",
    "    links_to_postings = []\n",
    "    for page in pages:\n",
    "        try:\n",
    "            container = page.find('div',{'class':'mosaic mosaic-provider-jobcards mosaic-provider-hydrated'})\n",
    "            boxes = container.find_all('a', href = True)\n",
    "        except:\n",
    "            container = page.find('div',{'class':'jobsearch-SerpJobCard unifiedRow row result clickcard'})\n",
    "            boxes = container.find_all('a', href = True)\n",
    "        for box in boxes:\n",
    "            first = box['href']\n",
    "            if '/rc/clk?jk' in first:\n",
    "                link = first.replace('/rc/clk?','https://www.indeed.com/viewjob?')\n",
    "                links_to_postings.append(link)\n",
    "    for link in set(links_to_postings):\n",
    "        soups.append(get_soup(link))\n",
    "    return soups"
   ]
  },
  {
   "cell_type": "code",
   "execution_count": 3,
   "metadata": {
    "scrolled": false
   },
   "outputs": [
    {
     "name": "stderr",
     "output_type": "stream",
     "text": [
      "<ipython-input-1-42be7db9a6ee>:26: DeprecationWarning: use options instead of chrome_options\n",
      "  driver = webdriver.Chrome(executable_path=driver_type, chrome_options=options)\n"
     ]
    },
    {
     "name": "stdout",
     "output_type": "stream",
     "text": [
      "https://www.indeed.com/jobs?q=%22Software+Engineer%22\n"
     ]
    }
   ],
   "source": [
    "page = get_soup('https://www.indeed.com/jobs?q=%22Software+Engineer%22&l=')"
   ]
  },
  {
   "cell_type": "code",
   "execution_count": 4,
   "metadata": {
    "scrolled": false
   },
   "outputs": [
    {
     "name": "stderr",
     "output_type": "stream",
     "text": [
      "<ipython-input-1-42be7db9a6ee>:26: DeprecationWarning: use options instead of chrome_options\n",
      "  driver = webdriver.Chrome(executable_path=driver_type, chrome_options=options)\n"
     ]
    },
    {
     "name": "stdout",
     "output_type": "stream",
     "text": [
      "https://www.indeed.com/jobs?q=%22Software+Engineer%22&start=40\n",
      "https://www.indeed.com/jobs?q=%22Software+Engineer%22&start=10\n",
      "https://www.indeed.com/jobs?q=%22Software+Engineer%22&start=30\n",
      "https://www.indeed.com/jobs?q=%22Software+Engineer%22&start=20\n"
     ]
    }
   ],
   "source": [
    "pages = parse_all_pages(page)"
   ]
  },
  {
   "cell_type": "code",
   "execution_count": null,
   "metadata": {},
   "outputs": [
    {
     "name": "stderr",
     "output_type": "stream",
     "text": [
      "<ipython-input-1-42be7db9a6ee>:26: DeprecationWarning: use options instead of chrome_options\n",
      "  driver = webdriver.Chrome(executable_path=driver_type, chrome_options=options)\n"
     ]
    },
    {
     "name": "stdout",
     "output_type": "stream",
     "text": [
      "https://www.indeed.com/viewjob?jk=1c1cca2129ef17d6&fccid=9784ae78e9834539&vjs=3\n",
      "https://www.indeed.com/viewjob?jk=df080646c9d96481&fccid=6824fc1f087bd63e&vjs=3\n",
      "https://www.indeed.com/viewjob?jk=e2ac69e3df8da482&fccid=5b47cb6dc9bd7f35&vjs=3\n",
      "https://www.indeed.com/viewjob?jk=10ea647495b66b08&fccid=f766f8bfbc3effb7&vjs=3\n",
      "https://www.indeed.com/viewjob?jk=d18cde112dad3c0c&fccid=5b2f9eaa91cb3370&vjs=3\n",
      "https://www.indeed.com/viewjob?jk=69125030be3ca818&fccid=dae005da9b084571&vjs=3\n",
      "https://www.indeed.com/viewjob?jk=58e2ffa598ee8ccf&fccid=10b5c722d846df43&vjs=3\n",
      "https://www.indeed.com/viewjob?jk=98cf54f6d023afb3&fccid=a575b7c5c50b587a&vjs=3\n",
      "https://www.indeed.com/viewjob?jk=f13c90de44845b92&fccid=4ed80f3a97849f22&vjs=3\n",
      "https://www.indeed.com/viewjob?jk=835c0973db3a626b&fccid=6bcbaf35af26e1a6&vjs=3\n",
      "https://www.indeed.com/viewjob?jk=86a75dfd51f0656c&fccid=8c805653641d337d&vjs=3\n",
      "https://www.indeed.com/viewjob?jk=d5c9b65ffefc69ba&fccid=bee6abba453010ff&vjs=3\n",
      "https://www.indeed.com/viewjob?jk=94bd47bb65b55a0a&fccid=8d0ce3817d129779&vjs=3\n",
      "https://www.indeed.com/viewjob?jk=b246045b00ff72ce&fccid=5bd99dfa21c8a490&vjs=3\n",
      "https://www.indeed.com/viewjob?jk=e2350be7e273b07b&fccid=1639254ea84748b5&vjs=3\n",
      "https://www.indeed.com/viewjob?jk=3842769b9819e251&fccid=8d0ce3817d129779&vjs=3\n",
      "https://www.indeed.com/viewjob?jk=a4a0e9ccf8a052a8&fccid=66cdbe15c1ac4d49&vjs=3\n",
      "https://www.indeed.com/viewjob?jk=f6d2374b02fa6c32&fccid=dd09fe3b43125016&vjs=3\n",
      "https://www.indeed.com/viewjob?jk=ea036a70d58d90da&fccid=8d0ce3817d129779&vjs=3\n",
      "https://www.indeed.com/viewjob?jk=e9f15a13541a2f1e&fccid=fe2d21eef233e94a&vjs=3\n",
      "https://www.indeed.com/viewjob?jk=2ab912f23dd2ffbb&fccid=66403b30a2c0d89c&vjs=3\n",
      "https://www.indeed.com/viewjob?jk=535ad03217428130&fccid=78fc32d909bd4f0b&vjs=3\n",
      "https://www.indeed.com/viewjob?jk=8e50ee19022c443d&fccid=a4e4e2eaf26690c9&vjs=3\n",
      "https://www.indeed.com/viewjob?jk=97ac7dc76da3b0c1&fccid=1b50fcfb150b1b48&vjs=3\n",
      "https://www.indeed.com/viewjob?jk=ae3139c2282ce2b2&fccid=aef928e89977f7f0&vjs=3\n",
      "https://www.indeed.com/viewjob?jk=d4706fa9aa5d4518&fccid=04d4d3fe06964a23&vjs=3\n",
      "https://www.indeed.com/viewjob?jk=860fe970f93bd3f8&fccid=aef928e89977f7f0&vjs=3\n",
      "https://www.indeed.com/viewjob?jk=98e883979bea8ef0&fccid=3e3eaa6aedf690a3&vjs=3\n",
      "https://www.indeed.com/viewjob?jk=f0df8205e6ff963e&fccid=fe404d18bb9eef1e&vjs=3\n",
      "https://www.indeed.com/viewjob?jk=3dee29551f7d7099&fccid=7c090d3e89322aec&vjs=3\n",
      "https://www.indeed.com/viewjob?jk=302b30f6fdc89fa3&fccid=f1374be6a45f4b8a&vjs=3\n",
      "https://www.indeed.com/viewjob?jk=c87fc226880970d1&fccid=54fab6b8f8edafb5&vjs=3\n",
      "https://www.indeed.com/viewjob?jk=a359dd1de8ba0947&fccid=cd6c9f98394f9865&vjs=3\n",
      "https://www.indeed.com/viewjob?jk=5a1d273d158182ef&fccid=df08fdaba67fac7c&vjs=3\n",
      "https://www.indeed.com/viewjob?jk=a3d828b4041d8151&fccid=cc9f897bcdb8571a&vjs=3\n",
      "https://www.indeed.com/viewjob?jk=fd5d6be9fab9f199&fccid=de71a49b535e21cb&vjs=3\n",
      "https://www.indeed.com/viewjob?jk=c18ba28320ca805c&fccid=fd1f6255717cee80&vjs=3\n",
      "https://www.indeed.com/viewjob?jk=3c1814fe69710537&fccid=f89deb5a97c7738a&vjs=3\n",
      "https://www.indeed.com/viewjob?jk=50e0a640cf1dd0a4&fccid=734cb5a01ee60f80&vjs=3\n",
      "https://www.indeed.com/viewjob?jk=9bd6bc258958641f&fccid=237908de095b6446&vjs=3\n",
      "https://www.indeed.com/viewjob?jk=aff9fdb109ad0c6f&fccid=0c6b36bca9577b9a&vjs=3\n",
      "https://www.indeed.com/viewjob?jk=4db0246e7bf344aa&fccid=1639254ea84748b5&vjs=3\n",
      "https://www.indeed.com/viewjob?jk=1b90a7ec6f186ca4&fccid=fe2d21eef233e94a&vjs=3\n",
      "https://www.indeed.com/viewjob?jk=2d8e41cff6537d1d&fccid=8e0192a48bd27a99&vjs=3\n"
     ]
    }
   ],
   "source": [
    "soups = get_all_soups(pages)"
   ]
  },
  {
   "cell_type": "code",
   "execution_count": null,
   "metadata": {},
   "outputs": [],
   "source": []
  },
  {
   "cell_type": "code",
   "execution_count": null,
   "metadata": {},
   "outputs": [],
   "source": []
  },
  {
   "cell_type": "code",
   "execution_count": null,
   "metadata": {},
   "outputs": [],
   "source": []
  },
  {
   "cell_type": "code",
   "execution_count": null,
   "metadata": {},
   "outputs": [],
   "source": []
  },
  {
   "cell_type": "code",
   "execution_count": null,
   "metadata": {},
   "outputs": [],
   "source": []
  },
  {
   "cell_type": "code",
   "execution_count": null,
   "metadata": {},
   "outputs": [],
   "source": []
  },
  {
   "cell_type": "code",
   "execution_count": null,
   "metadata": {},
   "outputs": [],
   "source": []
  },
  {
   "cell_type": "code",
   "execution_count": null,
   "metadata": {},
   "outputs": [],
   "source": []
  },
  {
   "cell_type": "code",
   "execution_count": null,
   "metadata": {},
   "outputs": [],
   "source": []
  },
  {
   "cell_type": "code",
   "execution_count": null,
   "metadata": {},
   "outputs": [],
   "source": []
  },
  {
   "cell_type": "code",
   "execution_count": null,
   "metadata": {},
   "outputs": [],
   "source": []
  },
  {
   "cell_type": "code",
   "execution_count": null,
   "metadata": {},
   "outputs": [],
   "source": [
    "sd = page.find('div',{'class':'jobsearch-SerpJobCard unifiedRow row result clickcard'})"
   ]
  },
  {
   "cell_type": "code",
   "execution_count": null,
   "metadata": {},
   "outputs": [],
   "source": [
    "for s in sd:\n",
    "    d = s.find('a', href = True)\n",
    "    print(d['href'])"
   ]
  },
  {
   "cell_type": "code",
   "execution_count": null,
   "metadata": {},
   "outputs": [],
   "source": []
  },
  {
   "cell_type": "code",
   "execution_count": null,
   "metadata": {},
   "outputs": [],
   "source": [
    "container = page.find('div',{'class':'mosaic mosaic-provider-jobcards mosaic-provider-hydrated'})"
   ]
  },
  {
   "cell_type": "code",
   "execution_count": null,
   "metadata": {
    "scrolled": true
   },
   "outputs": [],
   "source": [
    "boxes = container.find_all('a', href =True)"
   ]
  },
  {
   "cell_type": "code",
   "execution_count": null,
   "metadata": {},
   "outputs": [],
   "source": [
    "boxes[0]['href'"
   ]
  },
  {
   "cell_type": "code",
   "execution_count": null,
   "metadata": {},
   "outputs": [],
   "source": [
    "links_to_postings = []\n",
    "for box in boxes:\n",
    "    first = box['href']\n",
    "    if '/rc/clk?jk' in first:\n",
    "        link = first.replace('/rc/clk?','https://www.indeed.com/viewjob?')\n",
    "        links_to_postings.append(link)"
   ]
  },
  {
   "cell_type": "code",
   "execution_count": null,
   "metadata": {},
   "outputs": [],
   "source": [
    "soups = []\n",
    "for link in links_to_postings:\n",
    "    soup = get_soup(link)\n",
    "    soups.append(soup)"
   ]
  },
  {
   "cell_type": "code",
   "execution_count": null,
   "metadata": {},
   "outputs": [],
   "source": [
    "for soup in soups:\n",
    "    title = soup.find('h1',{'class':'icl-u-xs-mb--xs icl-u-xs-mt--none jobsearch-JobInfoHeader-title'}).text\n",
    "    \n",
    "    original = soup.find('div',{'id':'originalJobLinkContainer'}).find('a')['href']\n",
    "    print(original)"
   ]
  },
  {
   "cell_type": "code",
   "execution_count": null,
   "metadata": {},
   "outputs": [],
   "source": []
  },
  {
   "cell_type": "code",
   "execution_count": null,
   "metadata": {},
   "outputs": [],
   "source": []
  }
 ],
 "metadata": {
  "kernelspec": {
   "display_name": "Python 3",
   "language": "python",
   "name": "python3"
  },
  "language_info": {
   "codemirror_mode": {
    "name": "ipython",
    "version": 3
   },
   "file_extension": ".py",
   "mimetype": "text/x-python",
   "name": "python",
   "nbconvert_exporter": "python",
   "pygments_lexer": "ipython3",
   "version": "3.8.5"
  }
 },
 "nbformat": 4,
 "nbformat_minor": 4
}
